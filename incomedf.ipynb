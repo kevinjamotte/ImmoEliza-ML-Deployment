{
 "cells": [
  {
   "cell_type": "code",
   "execution_count": 5,
   "metadata": {},
   "outputs": [
    {
     "name": "stdout",
     "output_type": "stream",
     "text": [
      "      Average_Income_Per_Citizen  zipCode\n",
      "0                   27086.403566     2630\n",
      "1                   19091.860061     2000\n",
      "2                   19091.860061     2018\n",
      "3                   19091.860061     2020\n",
      "4                   19091.860061     2030\n",
      "...                          ...      ...\n",
      "2611                18853.416582     5670\n",
      "2612                18853.416582     5670\n",
      "2613                18853.416582     5670\n",
      "2614                18853.416582     5670\n",
      "2615                18853.416582     5670\n",
      "\n",
      "[2616 rows x 2 columns]\n"
     ]
    }
   ],
   "source": [
    "import pandas as pd\n",
    "\n",
    "# Paths to the CSV files\n",
    "income_path = r'income_municipality.csv'\n",
    "cities_path = r'cities.csv'\n",
    "\n",
    "# Read the CSV files into DataFrames\n",
    "income_df = pd.read_csv(income_path)\n",
    "cities_df = pd.read_csv(cities_path)\n",
    "\n",
    "# Merge based on CD_MUNTY_REFNIS in income_df and nisCode in cities_df\n",
    "income_df = income_df.merge(cities_df[['nisCode', 'zipCode']], \n",
    "                             left_on='CD_MUNTY_REFNIS', \n",
    "                             right_on='nisCode', \n",
    "                             how='left')\n",
    "\n",
    "# Drop the redundant 'nisCode' column if not needed\n",
    "income_df.drop(columns=['nisCode', 'MS_TOT_NET_INC', 'MS_TOT_RESIDENTS', 'CD_MUNTY_REFNIS'], inplace=True)\n",
    "income_df['zipCode'] = income_df['zipCode'].astype('Int64')  # Use 'Int64' to handle missing values (NaN)\n",
    "# Print the updated DataFrame\n",
    "print(income_df)\n"
   ]
  },
  {
   "cell_type": "code",
   "execution_count": 6,
   "metadata": {},
   "outputs": [
    {
     "name": "stdout",
     "output_type": "stream",
     "text": [
      "DataFrame saved to cleaned_income_data.csv with 'zipCode' as the first column.\n"
     ]
    }
   ],
   "source": [
    "# Reorder columns to make 'zipCode' the first column\n",
    "columns_order = ['zipCode'] + [col for col in income_df.columns if col != 'zipCode']\n",
    "income_df = income_df[columns_order]\n",
    "\n",
    "# Save income_df to a CSV file with 'zipCode' as the first column\n",
    "output_path = r'cleaned_income_data.csv'  # Specify your desired file name and path\n",
    "income_df.to_csv(output_path, index=False)\n",
    "\n",
    "print(f\"DataFrame saved to {output_path} with 'zipCode' as the first column.\")\n"
   ]
  }
 ],
 "metadata": {
  "kernelspec": {
   "display_name": "Python 3",
   "language": "python",
   "name": "python3"
  },
  "language_info": {
   "codemirror_mode": {
    "name": "ipython",
    "version": 3
   },
   "file_extension": ".py",
   "mimetype": "text/x-python",
   "name": "python",
   "nbconvert_exporter": "python",
   "pygments_lexer": "ipython3",
   "version": "3.13.0"
  }
 },
 "nbformat": 4,
 "nbformat_minor": 2
}
